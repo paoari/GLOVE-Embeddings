{
  "cells": [
    {
      "cell_type": "markdown",
      "metadata": {
        "id": "view-in-github",
        "colab_type": "text"
      },
      "source": [
        "<a href=\"https://colab.research.google.com/github/paoari/GLOVE-Embeddings/blob/main/Word_embeddings_GLOVE.ipynb\" target=\"_parent\"><img src=\"https://colab.research.google.com/assets/colab-badge.svg\" alt=\"Open In Colab\"/></a>"
      ]
    },
    {
      "cell_type": "markdown",
      "source": [
        "# On the cultural, political and racial biases encoded in NLP algorithms: a qualitative and quasi-quantitative approach.\n",
        "\n",
        "Author: Ana Paola Arias Martínez \n",
        "\n",
        "contact: ariasmartinez.paola.1l@gmail.com\n",
        "\n",
        "UNAM, Institute of Mathematics"
      ],
      "metadata": {
        "id": "lVBmGSxnGVUI"
      }
    },
    {
      "cell_type": "markdown",
      "source": [
        "This code allows for the manipulation of embeddings produced by the GLOVE model in order to gain an insight on the multiple biases that are encoded in this algorithm."
      ],
      "metadata": {
        "id": "GgzoJjisHOjF"
      }
    },
    {
      "cell_type": "markdown",
      "metadata": {
        "id": "4ipNDKdjPtvc"
      },
      "source": [
        "## Load GLOVE model\n",
        "\n",
        "These set of functions allow to access by keys the query words to its respecting vector of the pretrained GLOVE model."
      ]
    },
    {
      "cell_type": "markdown",
      "source": [
        "This code section was copied from the GitHub link:  \n",
        "\n",
        "https://github.com/esfahany/semantic-projection/blob/main/semantic_projection.ipynb\n",
        "\n",
        "The following functions can be originally found in the previous repository:\n",
        "\n",
        "\n",
        "\n",
        "*   loadGloveModel\n",
        "*   glove\n",
        "*   get_orthogonal_projection\n",
        "*   get_word_projections\n",
        "*   get_projection_score\n",
        "*   get_rankings\n",
        "\n",
        "This code was elaborated by Kathleen Esfahany as part of the research project ''Python implementation of semantic projection from Grand et al. (2022)''\n",
        "\n",
        "\n",
        "\n"
      ],
      "metadata": {
        "id": "y1sTCbBXMgLp"
      }
    },
    {
      "cell_type": "code",
      "execution_count": null,
      "metadata": {
        "colab": {
          "base_uri": "https://localhost:8080/"
        },
        "id": "zqBso-R0TDSd",
        "outputId": "8cce385b-7eaf-4ead-b037-58831ba0105c"
      },
      "outputs": [
        {
          "output_type": "stream",
          "name": "stdout",
          "text": [
            "--2023-01-20 17:24:17--  http://nlp.stanford.edu/data/glove.42B.300d.zip\n",
            "Resolving nlp.stanford.edu (nlp.stanford.edu)... 171.64.67.140\n",
            "Connecting to nlp.stanford.edu (nlp.stanford.edu)|171.64.67.140|:80... connected.\n",
            "HTTP request sent, awaiting response... 302 Found\n",
            "Location: https://nlp.stanford.edu/data/glove.42B.300d.zip [following]\n",
            "--2023-01-20 17:24:17--  https://nlp.stanford.edu/data/glove.42B.300d.zip\n",
            "Connecting to nlp.stanford.edu (nlp.stanford.edu)|171.64.67.140|:443... connected.\n",
            "HTTP request sent, awaiting response... 301 Moved Permanently\n",
            "Location: https://downloads.cs.stanford.edu/nlp/data/glove.42B.300d.zip [following]\n",
            "--2023-01-20 17:24:17--  https://downloads.cs.stanford.edu/nlp/data/glove.42B.300d.zip\n",
            "Resolving downloads.cs.stanford.edu (downloads.cs.stanford.edu)... 171.64.64.22\n",
            "Connecting to downloads.cs.stanford.edu (downloads.cs.stanford.edu)|171.64.64.22|:443... connected.\n",
            "HTTP request sent, awaiting response... 200 OK\n",
            "Length: 1877800501 (1.7G) [application/zip]\n",
            "Saving to: ‘glove.42B.300d.zip’\n",
            "\n",
            "glove.42B.300d.zip  100%[===================>]   1.75G  5.05MB/s    in 5m 52s  \n",
            "\n",
            "2023-01-20 17:30:10 (5.08 MB/s) - ‘glove.42B.300d.zip’ saved [1877800501/1877800501]\n",
            "\n"
          ]
        }
      ],
      "source": [
        "!wget http://nlp.stanford.edu/data/glove.42B.300d.zip"
      ]
    },
    {
      "cell_type": "code",
      "execution_count": null,
      "metadata": {
        "colab": {
          "base_uri": "https://localhost:8080/"
        },
        "id": "TsETfZO2e5eu",
        "outputId": "c4d17e3b-40ee-4478-ad6f-d0c04c7991ab"
      },
      "outputs": [
        {
          "output_type": "stream",
          "name": "stdout",
          "text": [
            "Archive:  glove.42B.300d.zip\n",
            "  inflating: glove.42B.300d.txt      \n"
          ]
        }
      ],
      "source": [
        "!unzip glove*.zip"
      ]
    },
    {
      "cell_type": "code",
      "source": [
        "def loadGloveModel(filepath):\n",
        "\n",
        "    import numpy as np\n",
        "    f = open(filepath,'r')\n",
        "    model = {}\n",
        "    for line in f:\n",
        "        splitLine = line.split()\n",
        "        word = splitLine[0]\n",
        "        embedding = np.array([float(val) for val in splitLine[1:]])\n",
        "        model[word] = embedding\n",
        "    return model\n",
        "\n",
        "glove_filepath_42B =\"glove.42B.300d.txt\"\n",
        "\n",
        "GloVe_Model_42B = loadGloveModel(glove_filepath_42B) # dict w/ words as keys and values as vectors (takes about 3 minutes)\n"
      ],
      "metadata": {
        "id": "eXo7jT_PHng-"
      },
      "execution_count": null,
      "outputs": []
    },
    {
      "cell_type": "code",
      "source": [
        "def glove(input_list):\n",
        "    \"\"\"\n",
        "    Returns 300d GloVe vector corresponding to word(s)\n",
        "    \"\"\"\n",
        "    return [GloVe_Model_42B[word] for word in input_list]"
      ],
      "metadata": {
        "id": "RoV_TvzRHrUu"
      },
      "execution_count": null,
      "outputs": []
    },
    {
      "cell_type": "markdown",
      "source": [
        "# Vector manipulation functions for single words."
      ],
      "metadata": {
        "id": "4bxrPu3cOPOM"
      }
    },
    {
      "cell_type": "markdown",
      "source": [
        "These functions should be implemented to get the corresponding parameters of each of the plot functions for single words."
      ],
      "metadata": {
        "id": "_HVhsvKsORz0"
      }
    },
    {
      "cell_type": "markdown",
      "metadata": {
        "id": "f6g_tQ_SFyBF"
      },
      "source": [
        "### Generate end vectors for the semantic space.\n",
        "Function that takes as input 3 words that define each end of the feature vector. "
      ]
    },
    {
      "cell_type": "code",
      "execution_count": null,
      "metadata": {
        "id": "WdJhkOqBFAQp"
      },
      "outputs": [],
      "source": [
        "def get_end_vector(a):\n",
        "\n",
        "  import numpy as np\n",
        "  \n",
        "  #The input should be a list of 3 words.\n",
        "\n",
        "  A = glove(a)\n",
        "\n",
        "  end_vector = np.mean(np.array(A), axis = 0)\n",
        "\n",
        "  return end_vector"
      ]
    },
    {
      "cell_type": "code",
      "execution_count": null,
      "metadata": {
        "id": "FrfAwFquFiZX"
      },
      "outputs": [],
      "source": [
        "small = get_end_vector([\"small\", \"little\", \"tiny\"])\n"
      ]
    },
    {
      "cell_type": "markdown",
      "metadata": {
        "id": "ahigEGs3P4FP"
      },
      "source": [
        "### Generate feature vector\n",
        "\n",
        "Function that takes as input 2 set of 3 words defining each end point for thefeature vector and\n",
        " generates a feature vector based on the multiple possible combinations between the 3 words proposed to represent each end of the semantic space."
      ]
    },
    {
      "cell_type": "code",
      "execution_count": null,
      "metadata": {
        "id": "YAzymtbLP6co"
      },
      "outputs": [],
      "source": [
        "def get_feature_vector(a, b):\n",
        "\n",
        "  import numpy as np\n",
        "\n",
        "  #a: list of length n of words on one end of the feature continuum\n",
        "  #b: list of length m of words on the other end of the continuum\n",
        "  \n",
        "  # generate list of GloVe embeddings for each end of continuum\n",
        "  A = glove(a)\n",
        "  B = glove(b)\n",
        "\n",
        "  # generate the n x m possible vector differences (\"lines\") between the two ends\n",
        "  lines = [] # will be a (n x m, 300) matrix\n",
        "  for A_i in A:\n",
        "      for B_j in B:\n",
        "          lines.append(B_j - A_i)\n",
        "\n",
        "  # generate the average of the n x m differences\n",
        "  feature_vector = np.mean(np.array(lines), axis = 0) # shape (300,)\n",
        "  return feature_vector      "
      ]
    },
    {
      "cell_type": "markdown",
      "source": [
        "Example:"
      ],
      "metadata": {
        "id": "PDgMx_-UOFto"
      }
    },
    {
      "cell_type": "code",
      "execution_count": null,
      "metadata": {
        "id": "dtmBPjvEMH9q"
      },
      "outputs": [],
      "source": [
        "size = get_feature_vector([\"small\", \"little\", \"tiny\"], [\"large\", \"big\", \"huge\"])"
      ]
    },
    {
      "cell_type": "markdown",
      "metadata": {
        "id": "f5X2X9cSP_Kj"
      },
      "source": [
        "### Project words onto feature subspace.\n",
        "\n",
        "Functions that get the orthogonal projection of a set of words into a desired feature subspace generated from the previously defined ends."
      ]
    },
    {
      "cell_type": "code",
      "execution_count": null,
      "metadata": {
        "id": "u1J7FzZPN0aA"
      },
      "outputs": [],
      "source": [
        "def get_orthogonal_projection(u, v):\n",
        "\n",
        "    import numpy as np\n",
        "\n",
        "    \"\"\"\n",
        "    Project vector u on vector v\n",
        "    \"\"\"\n",
        "    projection = (np.dot(u, v)/np.dot(v, v)) * v\n",
        "    return projection\n",
        "\n",
        "def get_word_projections(words, feature_set_1, feature_set_2):\n",
        "    \"\"\"\n",
        "    All params are lists of strings \n",
        "\n",
        "    example:\n",
        "    get_word_projection([\"mouse\", \"elephant\"],[\"small\", \"little\", \"tiny\"], [\"large\", \"big\", \"huge\"])\n",
        "\n",
        "    \"\"\"\n",
        "    # get GloVe embeddings of words\n",
        "    word_embeddings = glove(words)\n",
        "\n",
        "    # get feature subspace\n",
        "    feature_vector = get_feature_vector(feature_set_1, feature_set_2)\n",
        "\n",
        "    word_projections = [get_orthogonal_projection(word, feature_vector) for word in word_embeddings]\n",
        "\n",
        "    return word_projections"
      ]
    },
    {
      "cell_type": "code",
      "execution_count": null,
      "metadata": {
        "id": "avrZRttCNgxq"
      },
      "outputs": [],
      "source": [
        "mouse_elephant = get_word_projections([\"mouse\", \"elephant\"],[\"small\", \"little\", \"tiny\"], [\"large\", \"big\", \"huge\"])\n",
        "print(mouse_elephant)"
      ]
    },
    {
      "cell_type": "markdown",
      "metadata": {
        "id": "CB1Y5oW51NTa"
      },
      "source": [
        "### Rank words along feature vector\n",
        "\n",
        "Functions that rank the value of the orthogonal projections of the query list to a feature vector."
      ]
    },
    {
      "cell_type": "code",
      "execution_count": null,
      "metadata": {
        "id": "-bLDefak1QB5"
      },
      "outputs": [],
      "source": [
        "def get_projection_score(u, v):\n",
        "\n",
        "    import numpy as np \n",
        "    \n",
        "    \"\"\"\n",
        "    Get a scalar magnitude of u on v\n",
        "    \"\"\"\n",
        "    projection_score = (np.dot(u, v)/np.dot(v, v))\n",
        "    return projection_score\n",
        "\n",
        "def get_scores(words, feature_set_1, feature_set_2):\n",
        "    \"\"\"\n",
        "    \n",
        "    get_scores([\"mouse\", \"elephant\"],[\"small\", \"little\", \"tiny\"], [\"large\", \"big\", \"huge\"])\n",
        "\n",
        "    \"\"\"\n",
        "    # get GloVe embeddings of words\n",
        "    word_embeddings = glove(words)\n",
        "\n",
        "    # get feature subspace\n",
        "    feature_vector = get_feature_vector(feature_set_1, feature_set_2)\n",
        "\n",
        "    # get projection scores\n",
        "    projection_scores = [get_projection_score(word, feature_vector) for word in word_embeddings]\n",
        "\n",
        "    return projection_scores"
      ]
    },
    {
      "cell_type": "code",
      "source": [
        "get_scores([\"mouse\", \"elephant\"],[\"small\", \"little\", \"tiny\"], [\"large\", \"big\", \"huge\"])\n"
      ],
      "metadata": {
        "colab": {
          "base_uri": "https://localhost:8080/"
        },
        "id": "wB6-IkeSkNPi",
        "outputId": "d1eb8423-1bfa-4b0d-9203-7135972479e4"
      },
      "execution_count": null,
      "outputs": [
        {
          "output_type": "execute_result",
          "data": {
            "text/plain": [
              "[-0.2960019121780912, 0.04849688200908988]"
            ]
          },
          "metadata": {},
          "execution_count": 40
        }
      ]
    },
    {
      "cell_type": "markdown",
      "source": [
        "###PCA \n",
        "Function that applies PCA onto a list of words. This function can be implemented also for a list of composed words produced in the following section."
      ],
      "metadata": {
        "id": "RQLJKmuObcKZ"
      }
    },
    {
      "cell_type": "code",
      "source": [
        "def performPCA(words, n):\n",
        "\n",
        "  import numpy as np\n",
        "\n",
        "  #words must be in the form :\n",
        "  #words = glove([\"small\",\"big\",\"large\"])\n",
        "\n",
        "  # or\n",
        "  # animals = [\"mouse\", \"hamster\", \"ant\", \"dog\", \"rhino\", \"elephant\", \"whale\"]\n",
        "  # PCA_animals = glove(animals)\n",
        "\n",
        "  # n is for number of dimensions\n",
        "\n",
        "\n",
        "  from sklearn.decomposition import PCA\n",
        "\n",
        "  arrays = np.empty((0, 300), dtype='f')\n",
        "  arrays = np.append(arrays, words, axis=0)\n",
        "\n",
        "  wordsPCA =  PCA(n_components=n).fit_transform(arrays)\n",
        "  \n",
        "  return wordsPCA\n"
      ],
      "metadata": {
        "id": "uIO5JQlCZyv6"
      },
      "execution_count": null,
      "outputs": []
    },
    {
      "cell_type": "markdown",
      "source": [
        "Example for single words."
      ],
      "metadata": {
        "id": "UzQRDBHnUEtT"
      }
    },
    {
      "cell_type": "code",
      "source": [
        "words_PCA = glove([\"small\",\"big\",\"large\"])\n",
        "palabras = performPCA(words_PCA,2)\n",
        "palabras"
      ],
      "metadata": {
        "colab": {
          "base_uri": "https://localhost:8080/"
        },
        "id": "h6GQO98LoM9i",
        "outputId": "b0639c82-ac15-4d36-a8a5-a363eb6d69be"
      },
      "execution_count": null,
      "outputs": [
        {
          "output_type": "execute_result",
          "data": {
            "text/plain": [
              "array([[-1.94732501, -1.85705249],\n",
              "       [ 3.52798717, -0.13328615],\n",
              "       [-1.58066215,  1.99033864]])"
            ]
          },
          "metadata": {},
          "execution_count": 138
        }
      ]
    },
    {
      "cell_type": "markdown",
      "source": [
        "Example for composed words:"
      ],
      "metadata": {
        "id": "nPrDbvyPUGXm"
      }
    },
    {
      "cell_type": "code",
      "source": [
        "performPCA(types_of_dogs, 2)"
      ],
      "metadata": {
        "colab": {
          "base_uri": "https://localhost:8080/"
        },
        "id": "8KgPMAe4UIZ5",
        "outputId": "97630810-dc30-49a3-ac32-75803a1bdd95"
      },
      "execution_count": null,
      "outputs": [
        {
          "output_type": "execute_result",
          "data": {
            "text/plain": [
              "array([[-2.87012255e+00,  6.80741131e-16],\n",
              "       [ 2.87012255e+00,  6.80741131e-16]])"
            ]
          },
          "metadata": {},
          "execution_count": 17
        }
      ]
    },
    {
      "cell_type": "markdown",
      "metadata": {
        "id": "TZFEwLWXu2H2"
      },
      "source": [
        "# Vector manipulation functions for composed words.\n",
        "The following set of functions allow the manipulation of composed words for their following implementation into plotting functions.\n"
      ]
    },
    {
      "cell_type": "markdown",
      "source": [
        "### Vector addition and vector addition list.\n",
        "\n",
        "The following function sums a list of words to a corresponding pivot in the case of manipulation of composed words."
      ],
      "metadata": {
        "id": "6Kh86F6pPN7W"
      }
    },
    {
      "cell_type": "code",
      "execution_count": null,
      "metadata": {
        "id": "AHJLe-bEu6SU"
      },
      "outputs": [],
      "source": [
        "def VectorAddition(a, b):\n",
        "  import numpy as np\n",
        "  c = np.add(a,b)\n",
        "\n",
        "  return c\n",
        "\n",
        "def VectorAdditionList(pivot, complement_words):\n",
        "  pivot = glove(pivot)\n",
        "  complement_list = glove(complement_words)\n",
        "  comp_words = []\n",
        "\n",
        "  for word in complement_list:\n",
        "    comp_words.append(VectorAddition(pivot, word).ravel())\n",
        "  return comp_words"
      ]
    },
    {
      "cell_type": "markdown",
      "source": [
        "Example:"
      ],
      "metadata": {
        "id": "sPxOX1aXPVPU"
      }
    },
    {
      "cell_type": "code",
      "source": [
        "types_of_dogs = VectorAdditionList([\"dog\"],[\"small\", \"big\"])\n"
      ],
      "metadata": {
        "id": "yZI9Nh8gZT1x"
      },
      "execution_count": null,
      "outputs": []
    },
    {
      "cell_type": "markdown",
      "metadata": {
        "id": "Xnv7Y_MEMaR2"
      },
      "source": [
        "### Ranking compound words onto feature subspace\n",
        "\n",
        "Just as in the previous section, the following functions are used to get the projection scores of a set of compound-word into a feature subspace."
      ]
    },
    {
      "cell_type": "code",
      "execution_count": null,
      "metadata": {
        "id": "V_IQgdVY16MB"
      },
      "outputs": [],
      "source": [
        "def GetProjectionScoreSum(u, v):\n",
        "\n",
        "  import numpy as np\n",
        "  projection_score_sum = (np.dot(u, v)/np.dot(v, v))\n",
        "  return projection_score_sum\n",
        "\n",
        "def GetScoreSum(words, feature_set_1, feature_set_2):\n",
        "\n",
        "  #GetScoreSum([\"woman+old\", \"woman+young\"],[\"small\", \"little\", \"tiny\"], [\"large\", \"big\", \"huge\"])\n",
        "\n",
        "  # get feature subspace\n",
        "  feature_vector_sum = get_feature_vector(feature_set_1, feature_set_2)\n",
        "\n",
        "  # get projection scores\n",
        "  projection_scores_sum = []\n",
        "  projection_scores_sum = [GetProjectionScoreSum(word, feature_vector_sum) for word in words]\n",
        "\n",
        "  return projection_scores_sum\n",
        "\n"
      ]
    },
    {
      "cell_type": "markdown",
      "source": [
        "For this exmaple the query list of words were previously rpoduced with the VectorAdditionList function."
      ],
      "metadata": {
        "id": "1TbdQhd-QElj"
      }
    },
    {
      "cell_type": "code",
      "execution_count": null,
      "metadata": {
        "colab": {
          "base_uri": "https://localhost:8080/"
        },
        "id": "AhkhjpNbxgaY",
        "outputId": "3f2d3928-fb85-4517-ee78-55164f539d4a"
      },
      "outputs": [
        {
          "output_type": "execute_result",
          "data": {
            "text/plain": [
              "[-0.3476646489578169, 0.4565722315818102]"
            ]
          },
          "metadata": {},
          "execution_count": 35
        }
      ],
      "source": [
        "scores = GetScoreSum(types_of_dogs, [\"small\", \"little\", \"tiny\"], [\"large\", \"big\", \"huge\"])\n",
        "scores"
      ]
    },
    {
      "cell_type": "markdown",
      "metadata": {
        "id": "xnUV1scOyecT"
      },
      "source": [
        "### Get dataframe for list of word additions\n",
        "\n",
        "The following function creates a dataframe of the respection scorres for a list of query words onto a feature subspace."
      ]
    },
    {
      "cell_type": "code",
      "execution_count": null,
      "metadata": {
        "id": "RJaXsny1y8aE"
      },
      "outputs": [],
      "source": [
        "def DataFrame(word_labels, words, pivot, Aend, Bend):\n",
        "\n",
        "  import pandas as pd\n",
        "\n",
        "  compound_words = VectorAdditionList(pivot, words)\n",
        "  scores = GetScoreSum(compound_words, Aend, Bend)\n",
        "  labels = word_labels\n",
        "\n",
        "  dataframe = pd.DataFrame({'word':labels, 'vector':compound_words, 'scores': scores})\n",
        "\n",
        "  dataframe.sort_values(\"scores\", ascending = False)\n",
        "  return dataframe\n"
      ]
    },
    {
      "cell_type": "markdown",
      "source": [
        "Example:"
      ],
      "metadata": {
        "id": "fQPVyMVNQi8x"
      }
    },
    {
      "cell_type": "code",
      "source": [
        "b = [\"refined\", \"important\", \"pretty\"]\n",
        "a = [\"irrelevant\", \"ugly\", \"gross\"]\n",
        "labels = [\"american\", \"rich\", \"wealthy\", \"straight\", \"poor\", \"latino\", \"migrant\", \"homosexual\" ]\n",
        "words = [\"american\", \"rich\", \"wealthy\", \"straight\", \"poor\", \"latino\", \"migrant\", \"homosexual\" ]\n",
        "pivot = ['woman']\n",
        "pivot_2 = [\"man\"]\n",
        "pivot_3 = ['person']\n",
        "\n",
        "woman_dataframe = DataFrame(labels, words, pivot, a, b)\n",
        "men_dataframe = DataFrame(labels, words, pivot_2, a, b )\n",
        "person_dataframe = DataFrame(labels, words, pivot_3, a, b )\n",
        "\n",
        "woman_dataframe.sort_values(\"scores\", ascending = False)"
      ],
      "metadata": {
        "id": "_3IkXg9FHCJj"
      },
      "execution_count": null,
      "outputs": []
    },
    {
      "cell_type": "markdown",
      "metadata": {
        "id": "j9OZkq84MjLL"
      },
      "source": [
        "# Scale images\n",
        "\n",
        "The following set of functions are implemented for the elaboration of plots coorresponding to the orthogonal progection of a seet of query words onto a feature subspace."
      ]
    },
    {
      "cell_type": "markdown",
      "metadata": {
        "id": "k1-oFCtcYAdF"
      },
      "source": [
        "### Scale plot for Hot-cold scale (single words).\n",
        "\n",
        "Example that produces the orthogonal projections onto a hot-cold scale."
      ]
    },
    {
      "cell_type": "code",
      "source": [
        "def ScalePlot(a, b, aname, bname, words, length):\n",
        "\n",
        "  import numpy as np\n",
        "  import matplotlib.pyplot as plt\n",
        "  import itertools\n",
        "  colors = itertools.cycle([\"c\", \"m\", \"gold\", \"orange\", \"lightgreen\", \"mediumpurple\", \"coral\", \"rosybrown\", \"firebrick\"])\n",
        "\n",
        "  #generate vectors:\n",
        "\n",
        "  anew = get_end_vector(a)\n",
        "  bnew = get_end_vector(b)\n",
        "\n",
        "  #Apply PCA to words to be evaluated\n",
        "  PCA_words = glove(words)\n",
        "\n",
        "  # Append both ends of the scale to our list\n",
        "  PCA_words.append(anew)\n",
        "  PCA_words.append(bnew)\n",
        "\n",
        "  #Perform PCA on list\n",
        "  words_2D = performPCA(PCA_words, 2)\n",
        "\n",
        "  # define x's and y's for scale ends:\n",
        "  # x1,y1 represent a end\n",
        "  # x2, y2 represent b end\n",
        "\n",
        "  x1, y1= words_2D[-1]\n",
        "  x2, y2= words_2D[-2] \n",
        "\n",
        "  # Define the slope of the feature subspace\n",
        "  x = np.array([x2-x1, y2-y1])\n",
        "\n",
        "  # Elongate feature subspace line\n",
        "  plt.figure(figsize=(10,10))\n",
        "  mag = np.sqrt((x2-x1)**2 + (y2-y1)**2)\n",
        "  x2_dir, y2_dir = (x2-x1)/mag, (y2-y1)/mag\n",
        "  x1, x2 = x1 - length*x2_dir, x2 + length*x2_dir\n",
        "  y1, y2 = y1 - length*y2_dir, y2 + length*y2_dir\n",
        "\n",
        "  for i,v in enumerate(words_2D):\n",
        "      # Compute the projection of v onto x\n",
        "      proj_vx = np.dot(v, x) / np.dot(x, x) * x\n",
        "      #plt.plot([0, proj_vx[0]], [0, proj_vx[1]], color='black')\n",
        "      L = 20\n",
        "      x_start, y_start = proj_vx[0] - L * x2_dir, proj_vx[1] - L * y2_dir\n",
        "      x_end, y_end = proj_vx[0] + L * x2_dir, proj_vx[1] + L * y2_dir\n",
        "      plt.plot([x_start, x_end], [y_start, y_end], color='black')\n",
        "\n",
        "      # Plot the vectors\n",
        "      plt.scatter(v[0], v[1], marker='o', color=next(colors))\n",
        "      plt.annotate(words[i], (v[0], v[1]), textcoords=\"offset points\", xytext=(20,10), ha='center', va = \"top\")\n",
        "\n",
        "      # Plot the line that joins v and its projection\n",
        "      plt.plot([v[0], proj_vx[0]], [v[1], proj_vx[1]], '--', color='black')\n",
        "\n",
        "      if i == len(words) -1:\n",
        "        break\n",
        "\n",
        "  plt.legend()\n",
        "  plt.xlim(-10, 10)\n",
        "  plt.ylim(-10, 10)\n",
        "  plt.xticks([-10, 10])\n",
        "\n",
        "  plt.legend()\n",
        "  plt.xlim(-7, 7)\n",
        "  plt.ylim(-7,7)\n",
        "  plt.xticks([-7, 7])\n",
        "\n",
        "  font_dict = {'fontsize': 15, 'verticalalignment':'top'}\n",
        "\n",
        "  # Set the x-tick labels for the endpoints\n",
        "  plt.gca().set_xticklabels([aname, bname], fontdict=font_dict)\n",
        "  # Set the x-axis label font size\n",
        "  plt.gca().xaxis.label.set_size(50)\n",
        "\n",
        "  plt.savefig(aname)\n",
        "  plt.show()\n"
      ],
      "metadata": {
        "id": "LonLJdijohUt"
      },
      "execution_count": null,
      "outputs": []
    },
    {
      "cell_type": "code",
      "source": [
        "# Add the list of words defining each end vector.\n",
        "cold = [\"cold\", \"frozen\", \"icy\"]\n",
        "hot = [\"hot\", \"boiling\", \"burning\"]\n",
        "\n",
        "# Generate list of words to be evaluated\n",
        "words = [\"fire\", \"lava\", \"sun\", \"wood\", \"metal\", \"ice\", \"snow\"]\n",
        "\n",
        "#Define length of the feature subspace\n",
        "length = 10\n",
        "\n",
        "aname = 'cold'\n",
        "bname = 'hot'\n",
        "\n",
        "# Call the function\n",
        "ScalePlot(cold, hot, aname, bname, words, length)\n"
      ],
      "metadata": {
        "colab": {
          "base_uri": "https://localhost:8080/",
          "height": 632
        },
        "id": "HwKR_dxronsi",
        "outputId": "aa5e8b8c-0119-4513-9140-03f9f8d79c1e"
      },
      "execution_count": null,
      "outputs": [
        {
          "output_type": "stream",
          "name": "stderr",
          "text": [
            "WARNING:matplotlib.legend:No handles with labels found to put in legend.\n",
            "WARNING:matplotlib.legend:No handles with labels found to put in legend.\n"
          ]
        },
        {
          "output_type": "display_data",
          "data": {
            "text/plain": [
              "<Figure size 720x720 with 1 Axes>"
            ],
            "image/png": "[encoded data removed]"
          },
          "metadata": {
            "needs_background": "light"
          }
        }
      ]
    },
    {
      "cell_type": "markdown",
      "source": [
        "### Scale Plot for Justice-Injustice scale (composed words).\n",
        "Function that plots the orthogonal projections of a set of composed words onto a feature subspace.\n"
      ],
      "metadata": {
        "id": "oWvThOMtTc68"
      }
    },
    {
      "cell_type": "markdown",
      "source": [
        "This is an example using the function ScalePlotComposedWords to Plot the scale of composed words associated with justice and injustice terms and their relation with women."
      ],
      "metadata": {
        "id": "LWCc5dUgUZZS"
      }
    },
    {
      "cell_type": "code",
      "source": [
        "def ScalePlotComposedWords(a, b, aname, bname, words, pivot, length):\n",
        "\n",
        "  import matplotlib.pyplot as plt\n",
        "  import numpy as np\n",
        "  import itertools\n",
        "  from sympy.abc import z\n",
        "  from sympy import lambdify\n",
        "\n",
        "  # Generate vector for each of the ends of the feature vector\n",
        "  plot_title = aname\n",
        "  a = get_end_vector(a)\n",
        "  b = get_end_vector(b)\n",
        "\n",
        "  # Create composed words vector\n",
        "  composed_words = VectorAdditionList(pivot, words)\n",
        "\n",
        "  #Append both ends of the scale to our list\n",
        "  composed_words.append(a)\n",
        "  composed_words.append(b)\n",
        "\n",
        "  # Perform PCA on list\n",
        "  words_2D = performPCA(composed_words,2)\n",
        "\n",
        "  # Define x's and y's for the slope\n",
        "  x1, y1= words_2D[-1]\n",
        "  x2, y2= words_2D[-2]\n",
        "\n",
        "  # Define the slope for the feature subspace\n",
        "  x =  np.array([x2-x1, y2-y1])\n",
        "\n",
        "  # Define colors for the scatter plot\n",
        "  colors = itertools.cycle([\"c\", \"m\", \"gold\", \"orange\", \"lightgreen\", \"mediumpurple\", \"coral\", \"rosybrown\", \"firebrick\"])\n",
        "\n",
        "  # Plot figure\n",
        "  plt.figure(figsize=(10,10))\n",
        "\n",
        "  # Extend the feature subspace\n",
        "  mag = np.sqrt((x2-x1)**2 + (y2-y1)**2)\n",
        "  x2_dir, y2_dir = (x2-x1)/mag, (y2-y1)/mag\n",
        "  x1, x2 = x1 - length*x2_dir, x2 + length*x2_dir\n",
        "  y1, y2 = y1 - length*y2_dir, y2 + length*y2_dir\n",
        "\n",
        "\n",
        "  for i,v in enumerate(words_2D):\n",
        "      # Compute the projection of v onto x\n",
        "      proj_vx = np.dot(v, x) / np.dot(x, x) * x\n",
        "      L = 20\n",
        "      x_start, y_start = proj_vx[0] - L * x2_dir, proj_vx[1] - L * y2_dir\n",
        "      x_end, y_end = proj_vx[0] + L * x2_dir, proj_vx[1] + L * y2_dir\n",
        "      plt.plot([x_start, x_end], [y_start, y_end], color='black')\n",
        "\n",
        "      # Plot the vectors\n",
        "      plt.scatter(v[0], v[1], marker='o', color=next(colors))\n",
        "      plt.annotate(words[i], (v[0], v[1]), textcoords=\"offset points\", xytext=(20,10), ha='center', va = \"top\")\n",
        "\n",
        "      # Plot the line that joins v and its projection\n",
        "      plt.plot([v[0], proj_vx[0]], [v[1], proj_vx[1]], '--', color='black')\n",
        "\n",
        "      if i == len(words) - 1:\n",
        "        break\n",
        "\n",
        "  plt.legend()\n",
        "  plt.xlim(-7, 7)\n",
        "  plt.ylim(-7,7)\n",
        "  plt.xticks([-7, 7])\n",
        "\n",
        "  font_dict = {'fontsize': 15, 'verticalalignment':'top'}\n",
        "  # Set the x-tick labels for the endpoints\n",
        "  plt.gca().set_xticklabels([aname, bname], fontdict=font_dict)\n",
        "  \n",
        "  # Set the x-axis label font size\n",
        "  plt.gca().xaxis.label.set_size(50)\n",
        "\n",
        "  plt.savefig(aname)\n",
        "  plt.show()\n"
      ],
      "metadata": {
        "id": "K4NhppqIsrbx"
      },
      "execution_count": null,
      "outputs": []
    },
    {
      "cell_type": "code",
      "source": [
        "# Generate vector for each of the ends of the feature vector\n",
        "outcast = [\"outcast\", \"illegal\", \"opressed\"] # a\n",
        "normal = [\"normal\", \"standard\", \"legal\"] # b\n",
        "\n",
        "# Seet names for each name of the scale\n",
        "bname = 'outcast'\n",
        "aname = 'normal'\n",
        "\n",
        "# List of words to be evaluated\n",
        "words = [\"lesbian\", \"migrant\", \"american\", \"transexual\", \"latino\"]\n",
        "\n",
        "# Set pivot for vector addition\n",
        "pivot = [\"woman\"]\n",
        "\n",
        "# Set length for the scale\n",
        "length = 10\n",
        "\n",
        "ScalePlotComposedWords(outcast, normal, aname, bname, words, pivot, length)"
      ],
      "metadata": {
        "colab": {
          "base_uri": "https://localhost:8080/",
          "height": 614
        },
        "id": "vKEicuXExGz7",
        "outputId": "83e282a7-0418-434d-96d4-8f5770334915"
      },
      "execution_count": null,
      "outputs": [
        {
          "output_type": "stream",
          "name": "stderr",
          "text": [
            "WARNING:matplotlib.legend:No handles with labels found to put in legend.\n"
          ]
        },
        {
          "output_type": "display_data",
          "data": {
            "text/plain": [
              "<Figure size 720x720 with 1 Axes>"
            ],
            "image/png": "[encoded data removed]"
          },
          "metadata": {
            "needs_background": "light"
          }
        }
      ]
    },
    {
      "cell_type": "code",
      "source": [
        "# Generate vector for each of the ends of the feature vector\n",
        "refined = [\"refined\", \"classy\", \"civilized\"] # a\n",
        "unrefined = [\"unrefined\", \"primitive\", \"uncivilized\"] # b\n",
        "\n",
        "# Seet names for each name of the scale\n",
        "aname = 'refined'\n",
        "bname = 'unrefined'\n",
        "\n",
        "# List of words to be evaluated\n",
        "words = [\"reggaeton\", \"ballet\", \"flamenco\", \"tap\", \"bachata\", \"ballroom\", \"voguing\", \"jazz\", \"hip-hop\"]\n",
        "\n",
        "# Set pivot for vector addition\n",
        "pivot = [\"dance\"]\n",
        "\n",
        "# Set length for the scale\n",
        "length = 10\n",
        "\n",
        "ScalePlotComposedWords(refined, unrefined, aname, bname, words, pivot, length)"
      ],
      "metadata": {
        "colab": {
          "base_uri": "https://localhost:8080/",
          "height": 614
        },
        "id": "s2HYZFXI2_ct",
        "outputId": "1d43f823-8c5d-49fa-e7fa-896a4f46a02f"
      },
      "execution_count": null,
      "outputs": [
        {
          "output_type": "stream",
          "name": "stderr",
          "text": [
            "WARNING:matplotlib.legend:No handles with labels found to put in legend.\n"
          ]
        },
        {
          "output_type": "display_data",
          "data": {
            "text/plain": [
              "<Figure size 720x720 with 1 Axes>"
            ],
            "image/png": "[encoded data removed]"
          },
          "metadata": {
            "needs_background": "light"
          }
        }
      ]
    },
    {
      "cell_type": "markdown",
      "metadata": {
        "id": "BUDgVwaAf55j"
      },
      "source": [
        "# Lollipops"
      ]
    },
    {
      "cell_type": "markdown",
      "metadata": {
        "id": "5W_7_3_i1_pW"
      },
      "source": [
        "### Projection scores for compound words"
      ]
    },
    {
      "cell_type": "code",
      "execution_count": null,
      "metadata": {
        "colab": {
          "base_uri": "https://localhost:8080/",
          "height": 513
        },
        "id": "SEa3hVYFf48W",
        "outputId": "b20766e3-13d5-43b4-a83e-547e0fe98b98"
      },
      "outputs": [
        {
          "data": {
            "image/png": "[encoded data removed]",
            "text/plain": [
              "<Figure size 576x576 with 1 Axes>"
            ]
          },
          "metadata": {},
          "output_type": "display_data"
        }
      ],
      "source": [
        "import pandas as pd\n",
        "import matplotlib.pyplot as plt\n",
        "\n",
        "\n",
        "# Data frame must contain word and its respective value in the scale.\n",
        "# First we need to define the scale vector. For that we are going to use the Generate_feature_vector() function.\n",
        "\n",
        "# Now we need a function that projects words onto feature subspace. \n",
        "\n",
        "words = [\"gay\", \"migrant\", \"woman\", \"man\", \"american\", \"transexual\", \"latino\", \"king\", \"queen\", \"traitor\", \"killer\", \"outsider\", \"heterosexual\", \"lesbian\", \"bisexual\", \"pansexual\"]\n",
        "b =  [\"good\", \"valid\", \"legal\"]\n",
        "a = [\"bad\", \"odd\", \"opression\"] \n",
        "\n",
        "word_rankings = get_scores(words, a , b)\n",
        "\n",
        "words_and_projections = zip(words,word_rankings)\n",
        "\n",
        "# Create a pandas data frame\n",
        "df = pd.DataFrame(words_and_projections, columns = [\"word\", \"score\"])\n",
        "\n",
        "# Sort data frame from lowest to highest\n",
        "ordered_df = df.sort_values(by='score')\n",
        "my_range=range(1,len(df.index)+1)\n",
        "\n",
        "# For vertical plot\n",
        "'''\n",
        "# For vertical plot\n",
        "plt.stem(ordered_df['score'])\n",
        "plt.xticks( my_range, ordered_df['word'])\n",
        "plt.show()\n",
        "'''\n",
        "# For horizontal plot:\n",
        "\n",
        "# The horizontal plot is made using the hline function\n",
        "\n",
        "my_color=np.where(ordered_df['word']=='gay' , 'orange', 'skyblue')\n",
        "my_size=np.where(ordered_df['word']=='gay', 70, 30)\n",
        "\n",
        "plt.figure(figsize=(8,8))\n",
        "plt.hlines(y=my_range, xmin=0, xmax=ordered_df['score'], color=my_color, alpha=0.4)\n",
        "plt.scatter(ordered_df['score'], my_range, color=my_color, s=my_size, alpha=1)\n",
        " \n",
        "# Add titles and axis names\n",
        "plt.yticks(my_range, ordered_df['word'])\n",
        "plt.title(\"Validity scale for different entities\", loc='center')\n",
        "plt.xlabel('validity score')\n",
        "plt.ylabel('entity')\n",
        "\n",
        "# Show the plot\n",
        "plt.savefig('justice_injustice_lollipops')\n",
        "plt.show()\n",
        "\n"
      ]
    },
    {
      "cell_type": "code",
      "execution_count": null,
      "metadata": {
        "id": "xuy_B9ojKJO3"
      },
      "outputs": [],
      "source": [
        "a = [\"small\", \"little\", \"tiny\"]\n",
        "b =  [\"big\", \"huge\", \"large\"]\n",
        "word_labels = [\"small dog\", \"big dog\"]\n",
        "#LollipopsWordSum(types_of_dogs, word_labels, a, b, \"types of dogs\", \"size score\")"
      ]
    },
    {
      "cell_type": "markdown",
      "metadata": {
        "id": "-h1GOApix1DE"
      },
      "source": [
        "# Vector addition lollipops\n",
        "\n",
        "The following function allows for the creation of lollipops for the orthogonal projection values of a set of composed words onto a specified feature subspace.\n"
      ]
    },
    {
      "cell_type": "code",
      "source": [
        "def LollipopsWordSum(words, a, b, pivot, aname, bname, title, title_png):\n",
        "  \n",
        "  import pandas as pd\n",
        "  import matplotlib.pyplot as plt\n",
        "  import numpy as np\n",
        "\n",
        "  # Compute vector addition list.\n",
        "  composedwords = VectorAdditionList(pivot,words)\n",
        "\n",
        "  # Prepare data for dataframe\n",
        "  word_rankings = GetScoreSum(composedwords, a , b)\n",
        "  words_and_projections = zip(words, word_rankings)\n",
        "    \n",
        "  # Create a pandas data frame\n",
        "  df = pd.DataFrame(words_and_projections, columns = [\"word\", \"score\"])\n",
        "\n",
        "  # Sort data frame from lowest to highest\n",
        "  ordered_df = df.sort_values(by='score')\n",
        "  my_range=range(1,len(df.index)+1)\n",
        "\n",
        "  # For horizontal plot:\n",
        "  # The horizontal plot is made using the hline function\n",
        "\n",
        "  plt.figure(figsize=(8,8))\n",
        "  #plt.hlines(y=my_range, xmin=0, xmax=ordered_df['score'], color=my_color, alpha=0.4)\n",
        "  plt.hlines(y=my_range, xmin=ordered_df['score'].min(), xmax=ordered_df['score'], color='skyblue', alpha=0.4)\n",
        "  plt.scatter(ordered_df['score'], my_range, color='skyblue', alpha=1)\n",
        "  \n",
        "  # Add titles and axis names\n",
        "  plt.yticks(my_range, ordered_df['word'])\n",
        "  plt.title(title, loc='center')\n",
        "  plt.ylabel('entity')\n",
        "\n",
        "  # Set the x-tick labels for the endpoints\n",
        "  font_dict = {'fontsize': 15, 'verticalalignment':'top'}\n",
        "  plt.xticks([ordered_df['score'].min(), ordered_df['score'].max()], [aname, bname])\n",
        "\n",
        "  # Show the plot\n",
        "  plt.savefig(title)\n",
        "  plt.savefig(\n",
        "    title_png,\n",
        "    format='png',\n",
        ")\n",
        "  plt.show()\n"
      ],
      "metadata": {
        "id": "I7Ycs5H6GVt_"
      },
      "execution_count": null,
      "outputs": []
    },
    {
      "cell_type": "code",
      "source": [
        "# 1. Compute vector addition list.\n",
        "words =[\"american\", \"rich\", \"wealthy\", \"straight\", \"killer\", \"latino\", \"migrant\", \"lesbian\", ]\n",
        "pivot = [\"woman\"]\n",
        "\n",
        "# 2. define a side of the scale.\n",
        "b = [\"refined\", \"important\", \"pretty\"]\n",
        "a = [\"irrelevant\", \"ugly\", \"gross\"]\n",
        "\n",
        "bname = \"important\"\n",
        "aname = \"irrelevant\"\n",
        "\n",
        "title = \"irrelevant-important scale\" \n",
        "title_png = \"irrelevant-important scale\"\n",
        "\n",
        "#LollipopsWordSumComparison(women, men, labels, a, b, \"men'women\", \"score\", \"men-women.png\")\n",
        "LollipopsWordSum(words, b, a, pivot, aname, bname, title, title_png)"
      ],
      "metadata": {
        "colab": {
          "base_uri": "https://localhost:8080/",
          "height": 499
        },
        "id": "UZF84lKEHpiI",
        "outputId": "9fb8db7f-dcd4-422d-bee7-b21f600d152e"
      },
      "execution_count": null,
      "outputs": [
        {
          "output_type": "display_data",
          "data": {
            "text/plain": [
              "<Figure size 576x576 with 1 Axes>"
            ],
            "image/png": "[encoded data removed]"
          },
          "metadata": {
            "needs_background": "light"
          }
        }
      ]
    },
    {
      "cell_type": "markdown",
      "metadata": {
        "id": "PGrM2OuxVDFV"
      },
      "source": [
        "##Lollipop for women\n"
      ]
    },
    {
      "cell_type": "code",
      "execution_count": null,
      "metadata": {
        "id": "jjtDks9VXLtd"
      },
      "outputs": [],
      "source": [
        "def LollipopsWordSumComparison(wordset1, wordset2, word_label, a, b, aname, bname, title, x_axis, title_png):\n",
        "  \n",
        "  # For word set 1:\n",
        "  word_rankings1 = GetScoreSum(wordset1, a , b)\n",
        "  words_and_projections1 = zip(word_label,word_rankings1)\n",
        "\n",
        "  # For wordset 2:\n",
        "  word_rankings2 = GetScoreSum(wordset2, a , b)\n",
        "  words_and_projections2 = zip(word_label,word_rankings2)  \n",
        "  word_rankings_1_2 = zip(word_label, word_rankings1, word_rankings2)\n",
        "\n",
        "  # Create a pandas data frame\n",
        "  df3 = pd.DataFrame(word_rankings_1_2, columns = [\"word\", \"score1\", \"score2\"])\n",
        "\n",
        "  # Sort data frame from lowest to highest\n",
        "  my_range=range(1,len(df3.index)+1)\n",
        "  ordered_df3 = df3.sort_values(by = 'score2' )\n",
        "\n",
        "  # The horizontal plot is made using the hline function\n",
        "  plt.hlines(y=my_range, xmin=ordered_df3['score2'], xmax=ordered_df3['score1'], color='grey', alpha=0.4)\n",
        "  plt.scatter(ordered_df3['score1'], my_range, color='skyblue', alpha=1, label='score1 (woman)')\n",
        "  plt.scatter(ordered_df3['score2'], my_range, color='green', alpha=0.4 , label='score2 (man)')\n",
        "  plt.legend()\n",
        "\n",
        "  # Add titles and axis names\n",
        "  plt.yticks(my_range, ordered_df3['word'])\n",
        "  plt.title(\"Comparison of the value 1 and the value 2\", loc='left')\n",
        "  plt.xlabel('Value of the variables')\n",
        "  plt.ylabel('Group')\n",
        "\n",
        "  # Set the x-tick labels for the endpoints\n",
        "  font_dict = {'fontsize': 15, 'verticalalignment':'top'}\n",
        "  plt.gca().set_xticklabels([aname, bname], fontdict=font_dict)\n",
        "  \n",
        "  # Set the x-axis label font size\n",
        "  plt.gca().xaxis.label.set_size(50)\n",
        "\n",
        "  # Show and save the plot\n",
        "  plt.savefig(\n",
        "  title_png,\n",
        "  format='png',\n",
        ")\n",
        "\n",
        "  plt.show()"
      ]
    },
    {
      "cell_type": "markdown",
      "metadata": {
        "id": "oGYyOMhi2ZzP"
      },
      "source": [
        "# Radar chart"
      ]
    },
    {
      "cell_type": "code",
      "execution_count": null,
      "metadata": {
        "id": "cR4l4VbNByki"
      },
      "outputs": [],
      "source": [
        "%%capture\n",
        "!pip install kaleido\n",
        "!pip install plotly>=4.0.0\n",
        "!wget https://github.com/plotly/orca/releases/download/v1.2.1/orca-1.2.1-x86_64.AppImage -O /usr/local/bin/orca\n",
        "!chmod +x /usr/local/bin/orca\n",
        "!apt-get install xvfb libgtk2.0-0 libgconf-2-4"
      ]
    },
    {
      "cell_type": "code",
      "execution_count": null,
      "metadata": {
        "colab": {
          "base_uri": "https://localhost:8080/",
          "height": 236
        },
        "id": "y7SfZq4Dpc72",
        "outputId": "9376f5ef-9b6e-4034-9608-5f3c4c6052df"
      },
      "outputs": [
        {
          "output_type": "error",
          "ename": "NameError",
          "evalue": "ignored",
          "traceback": [
            "\u001b[0;31m---------------------------------------------------------------------------\u001b[0m",
            "\u001b[0;31mNameError\u001b[0m                                 Traceback (most recent call last)",
            "\u001b[0;32m<ipython-input-13-b21c9152643e>\u001b[0m in \u001b[0;36m<module>\u001b[0;34m\u001b[0m\n\u001b[1;32m      4\u001b[0m \u001b[0;34m\u001b[0m\u001b[0m\n\u001b[1;32m      5\u001b[0m fig.add_trace(go.Scatterpolar(\n\u001b[0;32m----> 6\u001b[0;31m       \u001b[0mr\u001b[0m\u001b[0;34m=\u001b[0m \u001b[0mwoman_dataframe\u001b[0m\u001b[0;34m[\u001b[0m\u001b[0;34m'scores'\u001b[0m\u001b[0;34m]\u001b[0m\u001b[0;34m,\u001b[0m\u001b[0;34m\u001b[0m\u001b[0;34m\u001b[0m\u001b[0m\n\u001b[0m\u001b[1;32m      7\u001b[0m       \u001b[0mtheta\u001b[0m\u001b[0;34m=\u001b[0m\u001b[0mwoman_dataframe\u001b[0m\u001b[0;34m[\u001b[0m\u001b[0;34m'word'\u001b[0m\u001b[0;34m]\u001b[0m\u001b[0;34m,\u001b[0m\u001b[0;34m\u001b[0m\u001b[0;34m\u001b[0m\u001b[0m\n\u001b[1;32m      8\u001b[0m       \u001b[0mfill\u001b[0m\u001b[0;34m=\u001b[0m\u001b[0;34m'toself'\u001b[0m\u001b[0;34m,\u001b[0m\u001b[0;34m\u001b[0m\u001b[0;34m\u001b[0m\u001b[0m\n",
            "\u001b[0;31mNameError\u001b[0m: name 'woman_dataframe' is not defined"
          ]
        }
      ],
      "source": [
        "import plotly.graph_objects as go\n",
        "\n",
        "fig = go.Figure()\n",
        "\n",
        "fig.add_trace(go.Scatterpolar(\n",
        "      r= woman_dataframe['scores'], \n",
        "      theta=woman_dataframe['word'],\n",
        "      fill='toself',\n",
        "      #fillcolor = 'crimson',\n",
        "      #opacity = 0.5,\n",
        "      #line=dict(color=\"crimson\"),\n",
        "      name='women'\n",
        "))\n",
        "\n",
        "fig.add_trace(go.Scatterpolar(\n",
        "      r= men_dataframe['scores'], \n",
        "      theta= men_dataframe['word'],\n",
        "      fill='toself',\n",
        "      #fillcolor = 'orange',\n",
        "      #opacity = 0.5,\n",
        "      #line=dict(color=\"orange\"),\n",
        "      name= 'men'\n",
        "))\n",
        "\n",
        "fig.add_trace(go.Scatterpolar(\n",
        "      r= person_dataframe['scores'], \n",
        "      theta= person_dataframe['word'],\n",
        "      fill='toself',\n",
        "      #fillcolor = 'orange',\n",
        "      #opacity = 0.5,\n",
        "      #line=dict(color=\"orange\"),\n",
        "      name= 'person'\n",
        "))\n",
        "\n",
        "fig.update_layout(\n",
        "  title = {'text': 'Irrelevant - Important plot : women vs men for different modifiers', 'x':0.5, 'xanchor':'center', 'yanchor': 'top'},\n",
        "  polar=dict(\n",
        "    radialaxis=dict(\n",
        "      visible=True,\n",
        "      #range=[0, men_dataframe['scores'].max()]\n",
        "    )),\n",
        "  showlegend=True\n",
        ")\n",
        "\n",
        "fig.write_image(\"woman_man_person_radarchart.png\")\n",
        "fig.show()"
      ]
    },
    {
      "cell_type": "markdown",
      "metadata": {
        "id": "iU58wYYQ36t2"
      },
      "source": [
        "### Perform PCA\n"
      ]
    },
    {
      "cell_type": "code",
      "execution_count": null,
      "metadata": {
        "id": "AzE1dnM7x3Bc"
      },
      "outputs": [],
      "source": [
        "def performPCA(words, n):\n",
        "  # words must be an array of vectors produced with the function GloVe_Model_42B[word]\n",
        "  from sklearn.decomposition import PCA\n",
        "\n",
        "  arrays = np.empty((0, 300), dtype='f')\n",
        "  arrays = np.append(arrays, words, axis=0)\n",
        "\n",
        "  wordsPCA =  PCA(n_components=n).fit_transform(arrays)\n",
        "  \n",
        "  return wordsPCA\n"
      ]
    },
    {
      "cell_type": "code",
      "execution_count": null,
      "metadata": {
        "colab": {
          "base_uri": "https://localhost:8080/"
        },
        "id": "fuTRXSv2zJ-b",
        "outputId": "de750ff3-7619-44d4-9943-49beb1e4093d"
      },
      "outputs": [
        {
          "output_type": "execute_result",
          "data": {
            "text/plain": [
              "array([[-2.03259605, -0.81128267],\n",
              "       [-2.47381974, -1.7641459 ],\n",
              "       [-2.77879315,  1.58303214],\n",
              "       [ 2.79361086,  0.06028084],\n",
              "       [ 1.43749024,  2.86366594],\n",
              "       [ 3.05410784, -1.93155036]])"
            ]
          },
          "metadata": {},
          "execution_count": 23
        }
      ],
      "source": [
        "words_PCA = [GloVe_Model_42B[\"small\"],GloVe_Model_42B[\"tiny\"],GloVe_Model_42B[\"little\"], GloVe_Model_42B[\"huge\"], GloVe_Model_42B[\"big\"], GloVe_Model_42B[\"enormous\"]]\n",
        "palabras = performPCA(words_PCA,2)\n",
        "palabras"
      ]
    },
    {
      "cell_type": "code",
      "execution_count": null,
      "metadata": {
        "id": "ipInpR1v39L0"
      },
      "outputs": [],
      "source": [
        "#from sklearn.decomposition import PCA\n",
        "\n",
        "\n",
        "#arrays = np.empty((0, 300), dtype='f')\n",
        "\n",
        "    # adds the vector of the query word\n",
        "#arrays = np.append(arrays, [GloVe_Model_42B[\"mouse\"],GloVe_Model_42B[\"elephant\"],GloVe_Model_42B[\"whale\"], GloVe_Model_42B[\"dog\"], GloVe_Model_42B[\"tiny\"], size], axis=0)\n",
        "\n",
        "#principalComponents =  PCA(n_components=2).fit_transform(arrays)\n",
        "#principalComponents\n"
      ]
    },
    {
      "cell_type": "markdown",
      "metadata": {
        "id": "xwPb7sFKsMHN"
      },
      "source": [
        "### Graph vectors"
      ]
    },
    {
      "cell_type": "code",
      "execution_count": null,
      "metadata": {
        "id": "gDDxRhsIrWVG"
      },
      "outputs": [],
      "source": [
        "def graphVectors(wordsPCA, names):\n",
        "  # wordsPCA is the output of performPCA function\n",
        "  # names is an array with the names for the word vectors in the same order as wordsPCA's output.\n",
        "\n",
        "  import numpy as np\n",
        "  import matplotlib.pyplot as plt\n",
        "    \n",
        "  # The data are given as list of lists (2d list)\n",
        "\n",
        "  # Taking transpose\n",
        "  x, y = wordsPCA.T\n",
        "      \n",
        "  # plot our list in X,Y coordinates\n",
        "  plt.scatter(x, y)\n",
        "  for i, label in enumerate(names):\n",
        "      plt.annotate(label, (x[i], y[i]))\n",
        "      \n",
        "  plt.show()"
      ]
    },
    {
      "cell_type": "code",
      "execution_count": null,
      "metadata": {
        "colab": {
          "base_uri": "https://localhost:8080/",
          "height": 265
        },
        "id": "X-C0jzJD42Y1",
        "outputId": "e8fe4644-6fd3-4878-e5d5-9bc91c7d01a9"
      },
      "outputs": [
        {
          "data": {
            "image/png": "[encoded data removed]",
            "text/plain": [
              "<Figure size 432x288 with 1 Axes>"
            ]
          },
          "metadata": {},
          "output_type": "display_data"
        }
      ],
      "source": [
        "\n",
        "graphVectors(palabras, [\"small\", \"tiny\", \"little\", \"huge\", \"big\", \"enormous\", \"size\"] )"
      ]
    },
    {
      "cell_type": "code",
      "execution_count": null,
      "metadata": {
        "id": "8ai0nzPjxn85"
      },
      "outputs": [],
      "source": []
    },
    {
      "cell_type": "markdown",
      "metadata": {
        "id": "vvRn9RVPkVB7"
      },
      "source": [
        "# Heatmaps"
      ]
    },
    {
      "cell_type": "code",
      "execution_count": null,
      "metadata": {
        "id": "ZDYYv6z67Lsg"
      },
      "outputs": [],
      "source": [
        "def Heatmaps(pivot, words, a, b, title_png, title,scale):\n",
        "  \n",
        "  import numpy as np\n",
        "  import pandas as pd\n",
        "  import seaborn as sns\n",
        "\n",
        "  pivoted_words = VectorAdditionList(pivot, words)\n",
        "  pivoted_words_2 = []\n",
        "\n",
        "  for i in range(len(pivoted_words)):\n",
        "    for j in range(len(pivoted_words)):\n",
        "      pivoted_words_2.append(VectorAddition(pivoted_words[i], pivoted_words[j]))\n",
        "\n",
        "  scores = GetScoreSum(pivoted_words_2, a, b)\n",
        "  scores_new = np.reshape(scores, (len(words), len(words)))\n",
        "  dataframe = pd.DataFrame(scores_new, columns = words, index = words)\n",
        "  dataframe\n",
        "\n",
        "  heatmap = sns.heatmap(dataframe, cbar_kws={'label': scale})\n",
        "  fig = heatmap.get_figure()\n",
        "  fig.suptitle(title)\n",
        "  fig.savefig(title_png) "
      ]
    },
    {
      "cell_type": "code",
      "execution_count": null,
      "metadata": {
        "colab": {
          "base_uri": "https://localhost:8080/",
          "height": 345
        },
        "id": "LQMehkx8gQpF",
        "outputId": "3dcb8809-0c83-419b-920c-72c36da1f0ad"
      },
      "outputs": [
        {
          "output_type": "display_data",
          "data": {
            "text/plain": [
              "<Figure size 432x288 with 2 Axes>"
            ],
            "image/png": "[encoded data removed]"
          },
          "metadata": {
            "needs_background": "light"
          }
        }
      ],
      "source": [
        "# Woman, man, child.\n",
        "\n",
        "pivot = [\"child\"]\n",
        "words = [\"american\", \"rich\", \"poor\", \"straight\", \"killer\", \"latino\", \"migrant\", \"lesbian\", \"homosexual\", \"lesbian\", \"bisexual\", \"transexual\"]\n",
        "a = [\"refined\", \"important\", \"pretty\"]\n",
        "b = [\"irrelevant\", \"ugly\", \"gross\"]\n",
        "title_png = \"child_heatmap.png\"\n",
        "title = \"Children\"\n",
        "scale = \"'important - irrelevant'\"\n",
        "\n",
        "Heatmaps(pivot, words, a, b, title_png, title, scale)\n",
        "\n"
      ]
    },
    {
      "cell_type": "code",
      "source": [
        "\n",
        "pivot = [\"cat\"]\n",
        "words = [\"american\", \"rich\", \"poor\", \"straight\", \"killer\", \"latino\", \"migrant\", \"lesbian\", \"homosexual\", \"lesbian\", \"bisexual\", \"transexual\"]\n",
        "a = [\"refined\", \"important\", \"pretty\"]\n",
        "b = [\"irrelevant\", \"ugly\", \"gross\"]\n",
        "title_png = \"child_heatmap.png\"\n",
        "title = \"Children\"\n",
        "scale = \"'important - irrelevant'\"\n",
        "\n",
        "Heatmaps(pivot, words, a, b, title_png, title, scale)\n"
      ],
      "metadata": {
        "colab": {
          "base_uri": "https://localhost:8080/",
          "height": 345
        },
        "id": "aaipkYaRNMme",
        "outputId": "881f65d4-90c2-44a3-f02c-10befff714bb"
      },
      "execution_count": null,
      "outputs": [
        {
          "output_type": "display_data",
          "data": {
            "text/plain": [
              "<Figure size 432x288 with 2 Axes>"
            ],
            "image/png": "[encoded data removed]"
          },
          "metadata": {
            "needs_background": "light"
          }
        }
      ]
    },
    {
      "cell_type": "code",
      "execution_count": null,
      "metadata": {
        "colab": {
          "base_uri": "https://localhost:8080/",
          "height": 353
        },
        "id": "dpuVdyaElFI9",
        "outputId": "837105bd-bec0-4558-a8db-e5e586d1f109"
      },
      "outputs": [
        {
          "data": {
            "image/png": "[encoded data removed]",
            "text/plain": [
              "<Figure size 432x288 with 2 Axes>"
            ]
          },
          "metadata": {},
          "output_type": "display_data"
        }
      ],
      "source": [
        "# Mental health - race\n",
        "\n",
        "pivot = [\"teenager\"]\n",
        "words = [\"american\", \"mexican\", \"migrant\", \"latino\", \"european\", \"asian\", \"schizophrenic\", \"anxious\", \"depressed\", \"autistic\", \"addict\", \"suicidal\"]\n",
        "a = [\"normal\", \"common\", \"standard\"]\n",
        "b = [\"unusual\", \"abnormal\", \"extraordinary\"]\n",
        "title_png = \"teen_heatmap.png\"\n",
        "title = \"Teenagers\"\n",
        "scale = \"'a - b'\"\n",
        "\n",
        "Heatmaps(pivot, words, a, b, title_png, title, scale)\n",
        "\n"
      ]
    },
    {
      "cell_type": "markdown",
      "metadata": {
        "id": "pa5SInN7t3P0"
      },
      "source": [
        "Heatmap for different entities + teenager. Positive values (light cells) approach [\"unusual\", \"abnormal\", \"extraordinary\"] side of the scale, while negatives values (dark cells) approach [\"normal\", \"common\", \"standard\"] side of the scale."
      ]
    },
    {
      "cell_type": "code",
      "execution_count": null,
      "metadata": {
        "id": "tJxykvNdmMfI"
      },
      "outputs": [],
      "source": [
        "\n",
        "def NewHeatmap(pivot, words_1, words_2, a, b,  title_png, title, scale):\n",
        "\n",
        "  import numpy as np\n",
        "  import pandas as pd\n",
        "  import seaborn as sns\n",
        "\n",
        "  pivoted_words_1 = VectorAdditionList(pivot, words_1)\n",
        "  pivoted_words_2 = VectorAdditionList(pivot, words_2)\n",
        "\n",
        "  pivoted_words_3 = []\n",
        "\n",
        "  for i in range(len(pivoted_words_1)):\n",
        "    for j in range(len(pivoted_words_1)):\n",
        "\n",
        "      pivoted_words_3.append(VectorAddition(pivoted_words_1[i], pivoted_words_2[j]))\n",
        "\n",
        "  scores = GetScoreSum(pivoted_words_3, a, b)\n",
        "  scores_new = np.reshape(scores, (len(words_1), len(words_1)))\n",
        "  dataframe = pd.DataFrame(scores_new, columns = words_2, index = words_1)\n",
        "  dataframe.sort_values(by = [words_2[0]], inplace = True)\n",
        "  dataframe.sort_values(by = [words_1[0]], inplace = True,  axis = 1)\n",
        "\n",
        "  heatmap = sns.heatmap(dataframe, cbar_kws={'label': scale})\n",
        "  fig = heatmap.get_figure()\n",
        "  fig.suptitle(title)\n",
        "  fig.savefig(title_png, bbox_inches='tight')\n"
      ]
    },
    {
      "cell_type": "code",
      "execution_count": null,
      "metadata": {
        "id": "xL79EzT6pg5_",
        "colab": {
          "base_uri": "https://localhost:8080/",
          "height": 348
        },
        "outputId": "cbdde5ec-5caa-442f-883b-ad463665d8fa"
      },
      "outputs": [
        {
          "output_type": "display_data",
          "data": {
            "text/plain": [
              "<Figure size 432x288 with 2 Axes>"
            ],
            "image/png": "[encoded data removed]"
          },
          "metadata": {
            "needs_background": "light"
          }
        }
      ],
      "source": [
        "pivot = [\"woman\"]\n",
        "words_1 = [\"american\", \"migrant\", \"latino\", \"european\", \"asian\", \"afroamerican\", \"caucasian\"]\n",
        "words_2 = [\"programmer\", \"scientist\", \"housekeeper\", \"unemployed\", \"manager\", \"engineer\", \"receptionist\"]\n",
        "a = [\"normal\", \"common\", \"standard\"]\n",
        "b = [\"unusual\", \"abnormal\", \"extraordinary\"]\n",
        "title_png = \"Occupation_women_heatmap.png\"\n",
        "title = \"Occupations for women\"\n",
        "scale = \"normal, common - unusual, abnormal\"\n",
        "\n",
        "NewHeatmap(pivot, words_1, words_2, a, b,  title_png, title, scale)"
      ]
    }
  ],
  "metadata": {
    "colab": {
      "collapsed_sections": [
        "c2UrXsw7o5SJ",
        "BUDgVwaAf55j",
        "xwPb7sFKsMHN"
      ],
      "provenance": [],
      "include_colab_link": true
    },
    "kernelspec": {
      "display_name": "Python 3",
      "name": "python3"
    },
    "language_info": {
      "name": "python"
    }
  },
  "nbformat": 4,
  "nbformat_minor": 0
}